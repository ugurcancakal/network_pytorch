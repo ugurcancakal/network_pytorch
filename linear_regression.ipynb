{
  "nbformat": 4,
  "nbformat_minor": 0,
  "metadata": {
    "colab": {
      "name": "linear_regression.ipynb",
      "provenance": [],
      "authorship_tag": "ABX9TyPTWiH5uL8rewllTbnE3vL7",
      "include_colab_link": true
    },
    "kernelspec": {
      "name": "python3",
      "display_name": "Python 3"
    }
  },
  "cells": [
    {
      "cell_type": "markdown",
      "metadata": {
        "id": "view-in-github",
        "colab_type": "text"
      },
      "source": [
        "<a href=\"https://colab.research.google.com/github/ugurcancakal/network_pytorch/blob/master/linear_regression.ipynb\" target=\"_parent\"><img src=\"https://colab.research.google.com/assets/colab-badge.svg\" alt=\"Open In Colab\"/></a>"
      ]
    },
    {
      "cell_type": "code",
      "metadata": {
        "id": "imVuSa-fog39",
        "colab_type": "code",
        "colab": {},
        "cellView": "form"
      },
      "source": [
        "# @title Imports\n",
        "\n",
        "import torch\n",
        "import numpy as np"
      ],
      "execution_count": 3,
      "outputs": []
    },
    {
      "cell_type": "markdown",
      "metadata": {
        "id": "Jc26RI7-cQZR",
        "colab_type": "text"
      },
      "source": [
        "# Linear Regression\n",
        " We will create a model that predicts crop yields for apples and oranges (target variables) by looking at the average temperature, rainfall and humidity\n",
        " (input variables or features) in a region. Here's the training data.\n",
        "\n",
        "![linear-regression-training-data](https://i.imgur.com/6Ujttb4.png)\n",
        "\n",
        "yield_apple = $w_{11} \\cdot \\text{temp} + w_{12} \\cdot \\text{rainfall} + w_{13} \\cdot  \\text{humidity} + b_1$ \n",
        "\n",
        "yield_orange = $w_{21} \\cdot \\text{temp} + w_{22} \\cdot \\text{rainfall} + w_{23} \\cdot  \\text{humidity} + b_2$ \n",
        "\n",
        "Visually, it means that the yield of apples is a linear or planar function of temperature, rainfall and humidity:\n",
        "\n",
        "![linear-regression-graph](https://i.imgur.com/4DJ9f8X.png)\n",
        "\n",
        "**Learning part** of linear regression is to figure out a set of weights $w_{21}, w_{22}, w_{23}$"
      ]
    },
    {
      "cell_type": "code",
      "metadata": {
        "id": "WoCKVAAcn71L",
        "colab_type": "code",
        "colab": {}
      },
      "source": [
        "# Input (temp, rainfall, humidity)\n",
        "\n",
        "inputs = np.array([[73, 67, 43],\n",
        "                   [91, 88, 64],\n",
        "                   [87, 134,58],\n",
        "                   [102,43, 37],\n",
        "                   [69, 96, 70]], dtype ='float32')"
      ],
      "execution_count": 7,
      "outputs": []
    },
    {
      "cell_type": "code",
      "metadata": {
        "id": "6bTuH0dxodGq",
        "colab_type": "code",
        "colab": {}
      },
      "source": [
        "# Targets (apples, oranges)\n",
        "\n",
        "targets = np.array([[56 , 70],\n",
        "                    [81, 101],\n",
        "                    [119,133],\n",
        "                    [22 , 37],\n",
        "                    [103,119]], dtype = 'float32')"
      ],
      "execution_count": 8,
      "outputs": []
    },
    {
      "cell_type": "code",
      "metadata": {
        "id": "Gpgn2t4MpDsU",
        "colab_type": "code",
        "colab": {}
      },
      "source": [
        "inputs = torch.from_numpy(inputs)\n",
        "targets = torch.from_numpy(targets)"
      ],
      "execution_count": 9,
      "outputs": []
    },
    {
      "cell_type": "markdown",
      "metadata": {
        "id": "MMvA6zcJpnhY",
        "colab_type": "text"
      },
      "source": [
        "# Linear Regression from scratch\n",
        "$\n",
        "~~~~~~~~~~~~~~X ~~~~~~~~~~~~~\\cdot ~~~~~~~~~~~W^T ~~~~~ + ~~~~~~~~b \\\\~\\\\\n",
        "\\begin{bmatrix} \n",
        "x_{11} & x_{12} & x_{13} \\\\\n",
        "x_{21} & x_{22} & x_{23} \\\\\n",
        "\\vdots & \\vdots & \\vdots \\\\\n",
        "x_{51} & x_{52} & x_{53} \\\\\n",
        "\\end{bmatrix}\n",
        "\\cdot\n",
        "\\begin{bmatrix} \n",
        "w_{11} & w_{21}\\\\\n",
        "w_{12} & w_{22}\\\\\n",
        "x_{13} & w_{23}\\\\\n",
        "\\end{bmatrix} \n",
        "+\n",
        "\\begin{bmatrix} \n",
        "b_{1} & b_{2}\\\\\n",
        "b_{1} & b_{2}\\\\\n",
        "\\vdots & \\vdots\\\\\n",
        "b_{1} & b_{2}\\\\\n",
        "\\end{bmatrix}\n",
        "$"
      ]
    },
    {
      "cell_type": "code",
      "metadata": {
        "id": "zgQTlEqypoZz",
        "colab_type": "code",
        "colab": {
          "base_uri": "https://localhost:8080/",
          "height": 67
        },
        "outputId": "5d0d27cc-6064-4743-dffb-e5c0e5351a47"
      },
      "source": [
        "w = torch.randn(2,3,requires_grad = True)\n",
        "b = torch.rand(2,requires_grad = True)\n",
        "print(w)\n",
        "print(b)"
      ],
      "execution_count": 11,
      "outputs": [
        {
          "output_type": "stream",
          "text": [
            "tensor([[ 0.2831,  0.1087, -2.1260],\n",
            "        [ 1.1569, -1.3752,  2.2160]], requires_grad=True)\n",
            "tensor([0.4744, 0.5268], requires_grad=True)\n"
          ],
          "name": "stdout"
        }
      ]
    },
    {
      "cell_type": "code",
      "metadata": {
        "id": "PMt-fGLJqcTD",
        "colab_type": "code",
        "colab": {}
      },
      "source": [
        "def model(x):\n",
        "  # It broadcasts b\n",
        "  return x @ w.t() + b"
      ],
      "execution_count": 12,
      "outputs": []
    },
    {
      "cell_type": "code",
      "metadata": {
        "id": "oBrK6At3s46z",
        "colab_type": "code",
        "colab": {
          "base_uri": "https://localhost:8080/",
          "height": 101
        },
        "outputId": "c0002074-a6a7-4494-e423-d2d9de1bca57"
      },
      "source": [
        "preds = model(inputs)\n",
        "print(preds)\n",
        "# It's random, start improving it."
      ],
      "execution_count": 14,
      "outputs": [
        {
          "output_type": "stream",
          "text": [
            "tensor([[ -62.9917,   88.1277],\n",
            "        [-100.2584,  126.6078],\n",
            "        [ -83.6353,   45.4237],\n",
            "        [ -44.6335,  141.3874],\n",
            "        [-118.3737,  103.4500]], grad_fn=<AddBackward0>)\n"
          ],
          "name": "stdout"
        }
      ]
    },
    {
      "cell_type": "markdown",
      "metadata": {
        "id": "bgSkubyVtTvl",
        "colab_type": "text"
      },
      "source": [
        "There is a huge difference between predicted values and actual values. Before improving our model, we need a way to evaluate how our model is performing. We can compare the model's prediction values with actual targets, using the following method:\n",
        "\n",
        "* Calculate the difference between two matrices (preds and targets)\n",
        "* Square all elements of the difference matrix to remove negative values\n",
        "* Calculate the average of the elements in the resulting matrix."
      ]
    },
    {
      "cell_type": "code",
      "metadata": {
        "id": "LEyQgKW4t2pZ",
        "colab_type": "code",
        "colab": {}
      },
      "source": [
        "def mse(t1, t2):\n",
        "  diff = t2 - t1\n",
        "  return torch.sum(diff**2) / diff.numel()"
      ],
      "execution_count": 22,
      "outputs": []
    },
    {
      "cell_type": "code",
      "metadata": {
        "id": "n6r_TcbtuhWB",
        "colab_type": "code",
        "colab": {
          "base_uri": "https://localhost:8080/",
          "height": 34
        },
        "outputId": "620bb3cb-5c9a-4e1a-c1a5-dcdffd6a4bc8"
      },
      "source": [
        "loss = mse(preds, targets)\n",
        "print(loss)"
      ],
      "execution_count": 23,
      "outputs": [
        {
          "output_type": "stream",
          "text": [
            "tensor(16131.3545, grad_fn=<DivBackward0>)\n"
          ],
          "name": "stdout"
        }
      ]
    },
    {
      "cell_type": "markdown",
      "metadata": {
        "id": "2XHPYLnzuwTN",
        "colab_type": "text"
      },
      "source": [
        "# Compute the Gradients\n",
        "\n"
      ]
    },
    {
      "cell_type": "code",
      "metadata": {
        "id": "vDMSuON6uqXO",
        "colab_type": "code",
        "colab": {
          "base_uri": "https://localhost:8080/",
          "height": 84
        },
        "outputId": "3cc6770a-dad8-4105-8eb4-2c4a8db446a1"
      },
      "source": [
        "loss.backward()\n",
        "print(w)\n",
        "print(w.grad)"
      ],
      "execution_count": 24,
      "outputs": [
        {
          "output_type": "stream",
          "text": [
            "tensor([[ 0.2831,  0.1087, -2.1260],\n",
            "        [ 1.1569, -1.3752,  2.2160]], requires_grad=True)\n",
            "tensor([[-12976.3154, -15038.6865,  -9286.3252],\n",
            "        [  1121.8114,  -1054.2651,     22.5595]])\n"
          ],
          "name": "stdout"
        }
      ]
    },
    {
      "cell_type": "markdown",
      "metadata": {
        "id": "SABDJJ_ru_ph",
        "colab_type": "text"
      },
      "source": [
        "derivative of the loss with respect to a particular element"
      ]
    },
    {
      "cell_type": "code",
      "metadata": {
        "id": "FNfUiLx0vLSd",
        "colab_type": "code",
        "colab": {
          "base_uri": "https://localhost:8080/",
          "height": 50
        },
        "outputId": "1d9997d6-f33f-4b5e-cfd3-1c21da2e27e3"
      },
      "source": [
        "print(b)\n",
        "print(b.grad)"
      ],
      "execution_count": 25,
      "outputs": [
        {
          "output_type": "stream",
          "text": [
            "tensor([0.4744, 0.5268], requires_grad=True)\n",
            "tensor([-158.1785,    8.9993])\n"
          ],
          "name": "stdout"
        }
      ]
    },
    {
      "cell_type": "markdown",
      "metadata": {
        "id": "wePnMxuDvxtv",
        "colab_type": "text"
      },
      "source": [
        "For only one w element in W, while the others are constant\n",
        "\n",
        "![negative=gradient](https://i.imgur.com/w3Wii7C.png)"
      ]
    },
    {
      "cell_type": "markdown",
      "metadata": {
        "id": "rBGGe8mQwNCU",
        "colab_type": "text"
      },
      "source": [
        "Before we proceed, we reset the gradients to zero by calling `.zero_()` method. We need to do this, because PyTorch accumulates, gradients i.e. the next time we call `.backward` on the loss, the new gradient values will get added to the existing gradient values, which may lead to unexpected results."
      ]
    },
    {
      "cell_type": "code",
      "metadata": {
        "id": "3s5owdgevbxc",
        "colab_type": "code",
        "colab": {
          "base_uri": "https://localhost:8080/",
          "height": 67
        },
        "outputId": "16d50a32-2aa4-41af-9c08-f2aa5b2f1e3a"
      },
      "source": [
        "w.grad.zero_()\n",
        "b.grad.zero_()\n",
        "print(w.grad)\n",
        "print(b.grad)"
      ],
      "execution_count": 26,
      "outputs": [
        {
          "output_type": "stream",
          "text": [
            "tensor([[0., 0., 0.],\n",
            "        [0., 0., 0.]])\n",
            "tensor([0., 0.])\n"
          ],
          "name": "stdout"
        }
      ]
    },
    {
      "cell_type": "markdown",
      "metadata": {
        "id": "uVBNbNYQwrUn",
        "colab_type": "text"
      },
      "source": [
        "# Adjust the weights and biases using gradient descent\n",
        "\n",
        "1. Generate predictions\n",
        "2. Calculate the loss\n",
        "3. Compute the gradients w.r.t weights and biases\n",
        "4. Adjust the weights by subtracting a small quantitiy proportional to the gradient\n",
        "5. Reset the gradients to zero"
      ]
    },
    {
      "cell_type": "code",
      "metadata": {
        "id": "jZxl7_SfxFQU",
        "colab_type": "code",
        "colab": {
          "base_uri": "https://localhost:8080/",
          "height": 101
        },
        "outputId": "e056e2ea-f877-4f56-9019-f090ad34839d"
      },
      "source": [
        "# 1. Generate predictions\n",
        "\n",
        "preds = model(inputs)\n",
        "print(preds)"
      ],
      "execution_count": 28,
      "outputs": [
        {
          "output_type": "stream",
          "text": [
            "tensor([[ -62.9917,   88.1277],\n",
            "        [-100.2584,  126.6078],\n",
            "        [ -83.6353,   45.4237],\n",
            "        [ -44.6335,  141.3874],\n",
            "        [-118.3737,  103.4500]], grad_fn=<AddBackward0>)\n"
          ],
          "name": "stdout"
        }
      ]
    },
    {
      "cell_type": "code",
      "metadata": {
        "id": "q2GtJv3QxPNN",
        "colab_type": "code",
        "colab": {
          "base_uri": "https://localhost:8080/",
          "height": 34
        },
        "outputId": "9c42d3d2-0da4-4946-ea07-126081af3e80"
      },
      "source": [
        "# 2. Calculate the loss\n",
        "loss = mse(preds, targets)\n",
        "print(loss)"
      ],
      "execution_count": 29,
      "outputs": [
        {
          "output_type": "stream",
          "text": [
            "tensor(16131.3545, grad_fn=<DivBackward0>)\n"
          ],
          "name": "stdout"
        }
      ]
    },
    {
      "cell_type": "code",
      "metadata": {
        "id": "XvhMxO_2xiag",
        "colab_type": "code",
        "colab": {
          "base_uri": "https://localhost:8080/",
          "height": 67
        },
        "outputId": "1eba7550-a048-4bfb-c37c-b70ebfa026fb"
      },
      "source": [
        "# 3. Compute the gradients w.r.t weights and biases\n",
        "loss.backward()\n",
        "print(w.grad)\n",
        "print(b.grad)"
      ],
      "execution_count": 30,
      "outputs": [
        {
          "output_type": "stream",
          "text": [
            "tensor([[-12976.3154, -15038.6865,  -9286.3252],\n",
            "        [  1121.8114,  -1054.2651,     22.5595]])\n",
            "tensor([-158.1785,    8.9993])\n"
          ],
          "name": "stdout"
        }
      ]
    },
    {
      "cell_type": "code",
      "metadata": {
        "id": "TFSEw6BIxwTe",
        "colab_type": "code",
        "colab": {}
      },
      "source": [
        "# 4. Adjust the weights by subtracting a small quantitiy proportional \n",
        "# to the gradient \n",
        "# AND\n",
        "# 5. Reset the gradients to zero\n",
        "\n",
        "with torch.no_grad():\n",
        "  w -= w.grad * 1e-5\n",
        "  b -= b.grad * 1e-5\n",
        "  w.grad.zero_()\n",
        "  b.grad.zero_()"
      ],
      "execution_count": 31,
      "outputs": []
    },
    {
      "cell_type": "code",
      "metadata": {
        "id": "EnuG5ycLyFYp",
        "colab_type": "code",
        "colab": {
          "base_uri": "https://localhost:8080/",
          "height": 67
        },
        "outputId": "75e64ed2-2ed2-4ecb-f7be-38b83698dca7"
      },
      "source": [
        "print(w)\n",
        "print(b)"
      ],
      "execution_count": 32,
      "outputs": [
        {
          "output_type": "stream",
          "text": [
            "tensor([[ 0.4129,  0.2591, -2.0331],\n",
            "        [ 1.1457, -1.3647,  2.2158]], requires_grad=True)\n",
            "tensor([0.4760, 0.5267], requires_grad=True)\n"
          ],
          "name": "stdout"
        }
      ]
    },
    {
      "cell_type": "code",
      "metadata": {
        "id": "VkHiK7_ZyMjw",
        "colab_type": "code",
        "colab": {
          "base_uri": "https://localhost:8080/",
          "height": 34
        },
        "outputId": "07bf9b06-7f31-4fce-f6b5-52a63c77f6c9"
      },
      "source": [
        "preds = model(inputs)\n",
        "loss = mse(preds, targets)\n",
        "print(loss)"
      ],
      "execution_count": 33,
      "outputs": [
        {
          "output_type": "stream",
          "text": [
            "tensor(11729.6387, grad_fn=<DivBackward0>)\n"
          ],
          "name": "stdout"
        }
      ]
    },
    {
      "cell_type": "markdown",
      "metadata": {
        "id": "Z9FH8MlZy0vO",
        "colab_type": "text"
      },
      "source": [
        "# Train for multiple epochs\n",
        "\n",
        "To reduce the loss further, we can repeat the process of adjusting the weights and biases using the gradients multiple times."
      ]
    },
    {
      "cell_type": "code",
      "metadata": {
        "id": "-4uXAy1syzoM",
        "colab_type": "code",
        "colab": {}
      },
      "source": [
        "# For 100 epochs\n",
        "for i in range(100):\n",
        "  preds = model(inputs)\n",
        "  loss = mse(preds, targets)\n",
        "  loss.backward()\n",
        "  with torch.no_grad():\n",
        "    w -= w.grad * 1e-5 # learning rate, hyperparameter\n",
        "    b -= b.grad * 1e-5\n",
        "    w.grad.zero_()\n",
        "    b.grad.zero_()"
      ],
      "execution_count": 58,
      "outputs": []
    },
    {
      "cell_type": "code",
      "metadata": {
        "id": "kjaQKwr_zqpu",
        "colab_type": "code",
        "colab": {
          "base_uri": "https://localhost:8080/",
          "height": 202
        },
        "outputId": "d127131c-8453-4189-c658-658bf82b72ae"
      },
      "source": [
        "print(loss)\n",
        "print(preds)\n",
        "print(targets)"
      ],
      "execution_count": 59,
      "outputs": [
        {
          "output_type": "stream",
          "text": [
            "tensor(3.6726, grad_fn=<DivBackward0>)\n",
            "tensor([[ 57.4211,  70.2757],\n",
            "        [ 80.6893, 101.6085],\n",
            "        [121.7346, 130.8796],\n",
            "        [ 21.9270,  36.4262],\n",
            "        [ 98.8826, 121.2138]], grad_fn=<AddBackward0>)\n",
            "tensor([[ 56.,  70.],\n",
            "        [ 81., 101.],\n",
            "        [119., 133.],\n",
            "        [ 22.,  37.],\n",
            "        [103., 119.]])\n"
          ],
          "name": "stdout"
        }
      ]
    },
    {
      "cell_type": "markdown",
      "metadata": {
        "id": "HbZTRPpy0NIp",
        "colab_type": "text"
      },
      "source": [
        "# Linear regression using PyTorch built-ins\n",
        "\n",
        "The model and training process above were implemented using basic matrix operations. But since this such a common pattern , PyTorch has several built-in functions and classes to make it easy to create and train models.\n",
        "\n",
        "Let's begin by importing the `torch.nn` package from PyTorch, which contains utility classes for building neural networks."
      ]
    },
    {
      "cell_type": "code",
      "metadata": {
        "id": "w4FZUsptIRQ3",
        "colab_type": "code",
        "colab": {}
      },
      "source": [
        "import torch\n",
        "import numpy as np\n",
        "import torch.nn as nn"
      ],
      "execution_count": 5,
      "outputs": []
    },
    {
      "cell_type": "code",
      "metadata": {
        "id": "FoTT2_t70e82",
        "colab_type": "code",
        "colab": {}
      },
      "source": [
        "# Input (temp, rainfall, humidity)\n",
        "inputs = np.array([[73, 67, 43], [91, 88, 64], [87, 134, 58], \n",
        "                   [102, 43, 37], [69, 96, 70], [73, 67, 43], \n",
        "                   [91, 88, 64], [87, 134, 58], [102, 43, 37], \n",
        "                   [69, 96, 70], [73, 67, 43], [91, 88, 64], \n",
        "                   [87, 134, 58], [102, 43, 37], [69, 96, 70]], \n",
        "                  dtype='float32')\n",
        "\n",
        "# Targets (apples, oranges)\n",
        "targets = np.array([[56, 70], [81, 101], [119, 133], \n",
        "                    [22, 37], [103, 119], [56, 70], \n",
        "                    [81, 101], [119, 133], [22, 37], \n",
        "                    [103, 119], [56, 70], [81, 101], \n",
        "                    [119, 133], [22, 37], [103, 119]], \n",
        "                   dtype='float32')\n",
        "\n",
        "inputs = torch.from_numpy(inputs)\n",
        "targets = torch.from_numpy(targets)"
      ],
      "execution_count": 6,
      "outputs": []
    },
    {
      "cell_type": "code",
      "metadata": {
        "id": "KGg2M16l0hJ0",
        "colab_type": "code",
        "colab": {
          "base_uri": "https://localhost:8080/",
          "height": 521
        },
        "outputId": "29658d1c-b542-41e9-8d10-7f52273cd035"
      },
      "source": [
        "print(inputs)\n",
        "print(targets)"
      ],
      "execution_count": 7,
      "outputs": [
        {
          "output_type": "stream",
          "text": [
            "tensor([[ 73.,  67.,  43.],\n",
            "        [ 91.,  88.,  64.],\n",
            "        [ 87., 134.,  58.],\n",
            "        [102.,  43.,  37.],\n",
            "        [ 69.,  96.,  70.],\n",
            "        [ 73.,  67.,  43.],\n",
            "        [ 91.,  88.,  64.],\n",
            "        [ 87., 134.,  58.],\n",
            "        [102.,  43.,  37.],\n",
            "        [ 69.,  96.,  70.],\n",
            "        [ 73.,  67.,  43.],\n",
            "        [ 91.,  88.,  64.],\n",
            "        [ 87., 134.,  58.],\n",
            "        [102.,  43.,  37.],\n",
            "        [ 69.,  96.,  70.]])\n",
            "tensor([[ 56.,  70.],\n",
            "        [ 81., 101.],\n",
            "        [119., 133.],\n",
            "        [ 22.,  37.],\n",
            "        [103., 119.],\n",
            "        [ 56.,  70.],\n",
            "        [ 81., 101.],\n",
            "        [119., 133.],\n",
            "        [ 22.,  37.],\n",
            "        [103., 119.],\n",
            "        [ 56.,  70.],\n",
            "        [ 81., 101.],\n",
            "        [119., 133.],\n",
            "        [ 22.,  37.],\n",
            "        [103., 119.]])\n"
          ],
          "name": "stdout"
        }
      ]
    },
    {
      "cell_type": "code",
      "metadata": {
        "id": "ZPcUAt4vIalr",
        "colab_type": "code",
        "colab": {}
      },
      "source": [
        "from torch.utils.data import TensorDataset"
      ],
      "execution_count": 8,
      "outputs": []
    },
    {
      "cell_type": "code",
      "metadata": {
        "id": "0v16Zi7MI0zb",
        "colab_type": "code",
        "colab": {
          "base_uri": "https://localhost:8080/",
          "height": 101
        },
        "outputId": "2c342120-ec47-4462-e065-6ab84fef7318"
      },
      "source": [
        "train_ds = TensorDataset(inputs, targets)\n",
        "train_ds[0:3]"
      ],
      "execution_count": 9,
      "outputs": [
        {
          "output_type": "execute_result",
          "data": {
            "text/plain": [
              "(tensor([[ 73.,  67.,  43.],\n",
              "         [ 91.,  88.,  64.],\n",
              "         [ 87., 134.,  58.]]), tensor([[ 56.,  70.],\n",
              "         [ 81., 101.],\n",
              "         [119., 133.]]))"
            ]
          },
          "metadata": {
            "tags": []
          },
          "execution_count": 9
        }
      ]
    },
    {
      "cell_type": "markdown",
      "metadata": {
        "id": "i2zVOLXWJXDN",
        "colab_type": "text"
      },
      "source": [
        "The `TensorDataset` allows us to access a small section of the training data using the array indexing notation (`[0:3]` in the above code). It returns a tuple (or pair), in which the first element contains the input variables for the selected rows, and the second contains the targets.\n",
        "\n",
        "We'll also create a `DataLoader`, which can split the data into batches of a predefined size while training. It also provides other utilities like shuffling and random sampling of the data."
      ]
    },
    {
      "cell_type": "code",
      "metadata": {
        "id": "adKkBBW5Jh59",
        "colab_type": "code",
        "colab": {}
      },
      "source": [
        "from torch.utils.data import DataLoader"
      ],
      "execution_count": 10,
      "outputs": []
    },
    {
      "cell_type": "code",
      "metadata": {
        "id": "hUnvq4EwJmge",
        "colab_type": "code",
        "colab": {
          "base_uri": "https://localhost:8080/",
          "height": 521
        },
        "outputId": "635b38ff-04db-4e13-b622-469ffe7d66e3"
      },
      "source": [
        "batch_size = 5\n",
        "train_dl = DataLoader(train_ds, batch_size, shuffle = True)\n",
        "for xb, yb in train_dl:\n",
        "  print(xb)\n",
        "  print(yb)"
      ],
      "execution_count": 11,
      "outputs": [
        {
          "output_type": "stream",
          "text": [
            "tensor([[102.,  43.,  37.],\n",
            "        [ 91.,  88.,  64.],\n",
            "        [ 69.,  96.,  70.],\n",
            "        [ 69.,  96.,  70.],\n",
            "        [ 73.,  67.,  43.]])\n",
            "tensor([[ 22.,  37.],\n",
            "        [ 81., 101.],\n",
            "        [103., 119.],\n",
            "        [103., 119.],\n",
            "        [ 56.,  70.]])\n",
            "tensor([[102.,  43.,  37.],\n",
            "        [ 87., 134.,  58.],\n",
            "        [ 91.,  88.,  64.],\n",
            "        [ 87., 134.,  58.],\n",
            "        [ 69.,  96.,  70.]])\n",
            "tensor([[ 22.,  37.],\n",
            "        [119., 133.],\n",
            "        [ 81., 101.],\n",
            "        [119., 133.],\n",
            "        [103., 119.]])\n",
            "tensor([[ 73.,  67.,  43.],\n",
            "        [102.,  43.,  37.],\n",
            "        [ 73.,  67.,  43.],\n",
            "        [ 91.,  88.,  64.],\n",
            "        [ 87., 134.,  58.]])\n",
            "tensor([[ 56.,  70.],\n",
            "        [ 22.,  37.],\n",
            "        [ 56.,  70.],\n",
            "        [ 81., 101.],\n",
            "        [119., 133.]])\n"
          ],
          "name": "stdout"
        }
      ]
    },
    {
      "cell_type": "markdown",
      "metadata": {
        "id": "wJ0pLgrOKDFt",
        "colab_type": "text"
      },
      "source": [
        "# nn.Linear\n"
      ]
    },
    {
      "cell_type": "code",
      "metadata": {
        "id": "JoUYw2r9KOPW",
        "colab_type": "code",
        "colab": {
          "base_uri": "https://localhost:8080/",
          "height": 101
        },
        "outputId": "dadd8f06-65d5-405d-f9e9-46f428573534"
      },
      "source": [
        "model = nn.Linear(3,2)\n",
        "print(model.weight)\n",
        "print(model.bias)"
      ],
      "execution_count": 12,
      "outputs": [
        {
          "output_type": "stream",
          "text": [
            "Parameter containing:\n",
            "tensor([[ 0.0070,  0.2341, -0.5157],\n",
            "        [ 0.4375,  0.5435, -0.5753]], requires_grad=True)\n",
            "Parameter containing:\n",
            "tensor([0.4598, 0.5648], requires_grad=True)\n"
          ],
          "name": "stdout"
        }
      ]
    },
    {
      "cell_type": "code",
      "metadata": {
        "id": "WPuZf5QiKRpE",
        "colab_type": "code",
        "colab": {
          "base_uri": "https://localhost:8080/",
          "height": 101
        },
        "outputId": "ad85e320-556b-409e-9d38-9672d017ce7f"
      },
      "source": [
        "# Parameters\n",
        "list(model.parameters())"
      ],
      "execution_count": 13,
      "outputs": [
        {
          "output_type": "execute_result",
          "data": {
            "text/plain": [
              "[Parameter containing:\n",
              " tensor([[ 0.0070,  0.2341, -0.5157],\n",
              "         [ 0.4375,  0.5435, -0.5753]], requires_grad=True),\n",
              " Parameter containing:\n",
              " tensor([0.4598, 0.5648], requires_grad=True)]"
            ]
          },
          "metadata": {
            "tags": []
          },
          "execution_count": 13
        }
      ]
    },
    {
      "cell_type": "code",
      "metadata": {
        "id": "6GdjeVeAKcC5",
        "colab_type": "code",
        "colab": {
          "base_uri": "https://localhost:8080/",
          "height": 269
        },
        "outputId": "396aeb9d-fb62-4b52-aa04-35aed45fddc9"
      },
      "source": [
        "preds = model(inputs)\n",
        "print(preds)"
      ],
      "execution_count": 14,
      "outputs": [
        {
          "output_type": "stream",
          "text": [
            "tensor([[ -5.5211,  44.1780],\n",
            "        [-11.3089,  51.3853],\n",
            "        [  2.5253,  78.0885],\n",
            "        [ -7.8425,  47.2720],\n",
            "        [-12.6840,  42.6575],\n",
            "        [ -5.5211,  44.1780],\n",
            "        [-11.3089,  51.3853],\n",
            "        [  2.5253,  78.0885],\n",
            "        [ -7.8425,  47.2720],\n",
            "        [-12.6840,  42.6575],\n",
            "        [ -5.5211,  44.1780],\n",
            "        [-11.3089,  51.3853],\n",
            "        [  2.5253,  78.0885],\n",
            "        [ -7.8425,  47.2720],\n",
            "        [-12.6840,  42.6575]], grad_fn=<AddmmBackward>)\n"
          ],
          "name": "stdout"
        }
      ]
    },
    {
      "cell_type": "code",
      "metadata": {
        "id": "KYK_aqRPKrmY",
        "colab_type": "code",
        "colab": {}
      },
      "source": [
        "import torch.nn.functional as F"
      ],
      "execution_count": 15,
      "outputs": []
    },
    {
      "cell_type": "code",
      "metadata": {
        "id": "9UOGbyxLKvtr",
        "colab_type": "code",
        "colab": {}
      },
      "source": [
        "loss_fn = F.mse_loss"
      ],
      "execution_count": 16,
      "outputs": []
    },
    {
      "cell_type": "code",
      "metadata": {
        "id": "AA3WDiebKx1v",
        "colab_type": "code",
        "colab": {
          "base_uri": "https://localhost:8080/",
          "height": 34
        },
        "outputId": "3c81584e-993d-457b-9ec8-c389f28a60cf"
      },
      "source": [
        "loss = loss_fn(model(inputs), targets)\n",
        "print(loss)"
      ],
      "execution_count": 17,
      "outputs": [
        {
          "output_type": "stream",
          "text": [
            "tensor(5222.2842, grad_fn=<MseLossBackward>)\n"
          ],
          "name": "stdout"
        }
      ]
    },
    {
      "cell_type": "markdown",
      "metadata": {
        "id": "KkRMMOomLLBg",
        "colab_type": "text"
      },
      "source": [
        "# Optimizer"
      ]
    },
    {
      "cell_type": "code",
      "metadata": {
        "id": "-CqA1WrILMtd",
        "colab_type": "code",
        "colab": {}
      },
      "source": [
        "# which matrices need to be updated\n",
        "opt = torch.optim.SGD(model.parameters(), lr = 1e-5) "
      ],
      "execution_count": 18,
      "outputs": []
    },
    {
      "cell_type": "markdown",
      "metadata": {
        "id": "41JvuwynLUli",
        "colab_type": "text"
      },
      "source": [
        "# Train the model"
      ]
    },
    {
      "cell_type": "code",
      "metadata": {
        "id": "xnamEVlKLXJu",
        "colab_type": "code",
        "colab": {}
      },
      "source": [
        "def fit(num_epochs, model, loss_fn, opt):\n",
        "  for epoch in range(num_epochs):\n",
        "    for xb, yb, in train_dl:\n",
        "\n",
        "      # 1. Generate predictions\n",
        "      preds = model(xb)\n",
        "\n",
        "      # 2. Calculate Loss\n",
        "      loss = loss_fn(preds, yb)\n",
        "\n",
        "      # 3. Compute gradients\n",
        "      loss.backward()\n",
        "\n",
        "      # 4. Update parameters using gradient\n",
        "      opt.step()\n",
        "\n",
        "      # 5. Reset the gradients to zero\n",
        "      opt.zero_grad()\n",
        "\n",
        "    # Print the progress\n",
        "    if(epoch+1) % 10 == 0:\n",
        "      print('Epoch [{}/{}], Loss: {:.4f}'.format(epoch+1, num_epochs, loss.item()))\n"
      ],
      "execution_count": 21,
      "outputs": []
    },
    {
      "cell_type": "code",
      "metadata": {
        "id": "bGspFAy9M6qn",
        "colab_type": "code",
        "colab": {
          "base_uri": "https://localhost:8080/",
          "height": 1000
        },
        "outputId": "2eeb9a76-93be-4e3b-bac3-303142b77a32"
      },
      "source": [
        "fit(1000, model, loss_fn, opt)"
      ],
      "execution_count": 22,
      "outputs": [
        {
          "output_type": "stream",
          "text": [
            "Epoch [10/1000], Loss: 687.7610\n",
            "Epoch [20/1000], Loss: 319.8154\n",
            "Epoch [30/1000], Loss: 291.4352\n",
            "Epoch [40/1000], Loss: 202.7767\n",
            "Epoch [50/1000], Loss: 39.0083\n",
            "Epoch [60/1000], Loss: 91.9822\n",
            "Epoch [70/1000], Loss: 168.4325\n",
            "Epoch [80/1000], Loss: 84.1687\n",
            "Epoch [90/1000], Loss: 86.1852\n",
            "Epoch [100/1000], Loss: 138.0452\n",
            "Epoch [110/1000], Loss: 73.6995\n",
            "Epoch [120/1000], Loss: 118.3605\n",
            "Epoch [130/1000], Loss: 74.5655\n",
            "Epoch [140/1000], Loss: 89.9339\n",
            "Epoch [150/1000], Loss: 107.0951\n",
            "Epoch [160/1000], Loss: 70.0687\n",
            "Epoch [170/1000], Loss: 66.9747\n",
            "Epoch [180/1000], Loss: 66.6426\n",
            "Epoch [190/1000], Loss: 45.8467\n",
            "Epoch [200/1000], Loss: 47.1806\n",
            "Epoch [210/1000], Loss: 42.2707\n",
            "Epoch [220/1000], Loss: 39.1814\n",
            "Epoch [230/1000], Loss: 52.6602\n",
            "Epoch [240/1000], Loss: 20.3500\n",
            "Epoch [250/1000], Loss: 35.8094\n",
            "Epoch [260/1000], Loss: 21.6285\n",
            "Epoch [270/1000], Loss: 43.1765\n",
            "Epoch [280/1000], Loss: 30.9804\n",
            "Epoch [290/1000], Loss: 29.4664\n",
            "Epoch [300/1000], Loss: 25.4830\n",
            "Epoch [310/1000], Loss: 35.7365\n",
            "Epoch [320/1000], Loss: 25.0030\n",
            "Epoch [330/1000], Loss: 31.5635\n",
            "Epoch [340/1000], Loss: 21.7065\n",
            "Epoch [350/1000], Loss: 24.8231\n",
            "Epoch [360/1000], Loss: 11.8837\n",
            "Epoch [370/1000], Loss: 4.2826\n",
            "Epoch [380/1000], Loss: 23.1291\n",
            "Epoch [390/1000], Loss: 29.7849\n",
            "Epoch [400/1000], Loss: 16.3599\n",
            "Epoch [410/1000], Loss: 10.9607\n",
            "Epoch [420/1000], Loss: 18.3004\n",
            "Epoch [430/1000], Loss: 13.2629\n",
            "Epoch [440/1000], Loss: 11.6922\n",
            "Epoch [450/1000], Loss: 3.9896\n",
            "Epoch [460/1000], Loss: 10.7106\n",
            "Epoch [470/1000], Loss: 6.1621\n",
            "Epoch [480/1000], Loss: 12.7866\n",
            "Epoch [490/1000], Loss: 9.3551\n",
            "Epoch [500/1000], Loss: 5.7196\n",
            "Epoch [510/1000], Loss: 14.1108\n",
            "Epoch [520/1000], Loss: 2.1714\n",
            "Epoch [530/1000], Loss: 4.6765\n",
            "Epoch [540/1000], Loss: 6.9082\n",
            "Epoch [550/1000], Loss: 4.1577\n",
            "Epoch [560/1000], Loss: 6.7468\n",
            "Epoch [570/1000], Loss: 10.6638\n",
            "Epoch [580/1000], Loss: 9.7341\n",
            "Epoch [590/1000], Loss: 5.3237\n",
            "Epoch [600/1000], Loss: 5.3538\n",
            "Epoch [610/1000], Loss: 1.5305\n",
            "Epoch [620/1000], Loss: 3.7259\n",
            "Epoch [630/1000], Loss: 4.4159\n",
            "Epoch [640/1000], Loss: 7.1614\n",
            "Epoch [650/1000], Loss: 6.0381\n",
            "Epoch [660/1000], Loss: 3.9589\n",
            "Epoch [670/1000], Loss: 2.3925\n",
            "Epoch [680/1000], Loss: 2.0948\n",
            "Epoch [690/1000], Loss: 1.2147\n",
            "Epoch [700/1000], Loss: 2.8545\n",
            "Epoch [710/1000], Loss: 2.0640\n",
            "Epoch [720/1000], Loss: 2.0911\n",
            "Epoch [730/1000], Loss: 3.6369\n",
            "Epoch [740/1000], Loss: 2.5753\n",
            "Epoch [750/1000], Loss: 2.9326\n",
            "Epoch [760/1000], Loss: 2.9636\n",
            "Epoch [770/1000], Loss: 1.6324\n",
            "Epoch [780/1000], Loss: 1.3141\n",
            "Epoch [790/1000], Loss: 2.2531\n",
            "Epoch [800/1000], Loss: 2.3289\n",
            "Epoch [810/1000], Loss: 1.4927\n",
            "Epoch [820/1000], Loss: 1.1624\n",
            "Epoch [830/1000], Loss: 2.4572\n",
            "Epoch [840/1000], Loss: 1.8245\n",
            "Epoch [850/1000], Loss: 2.3070\n",
            "Epoch [860/1000], Loss: 1.3630\n",
            "Epoch [870/1000], Loss: 2.1163\n",
            "Epoch [880/1000], Loss: 1.2598\n",
            "Epoch [890/1000], Loss: 1.5572\n",
            "Epoch [900/1000], Loss: 1.5031\n",
            "Epoch [910/1000], Loss: 1.8134\n",
            "Epoch [920/1000], Loss: 1.8501\n",
            "Epoch [930/1000], Loss: 1.2264\n",
            "Epoch [940/1000], Loss: 1.1185\n",
            "Epoch [950/1000], Loss: 0.7269\n",
            "Epoch [960/1000], Loss: 0.8405\n",
            "Epoch [970/1000], Loss: 1.0860\n",
            "Epoch [980/1000], Loss: 1.1924\n",
            "Epoch [990/1000], Loss: 1.0738\n",
            "Epoch [1000/1000], Loss: 0.9449\n"
          ],
          "name": "stdout"
        }
      ]
    }
  ]
}