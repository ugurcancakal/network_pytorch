{
  "nbformat": 4,
  "nbformat_minor": 0,
  "metadata": {
    "colab": {
      "name": "DNN_GPU_MNIST.ipynb",
      "provenance": [],
      "authorship_tag": "ABX9TyO5kWA8yPa0NUE2wud3rPo5",
      "include_colab_link": true
    },
    "kernelspec": {
      "name": "python3",
      "display_name": "Python 3"
    },
    "accelerator": "GPU"
  },
  "cells": [
    {
      "cell_type": "markdown",
      "metadata": {
        "id": "view-in-github",
        "colab_type": "text"
      },
      "source": [
        "<a href=\"https://colab.research.google.com/github/ugurcancakal/network_pytorch/blob/master/DNN_GPU_MNIST.ipynb\" target=\"_parent\"><img src=\"https://colab.research.google.com/assets/colab-badge.svg\" alt=\"Open In Colab\"/></a>"
      ]
    },
    {
      "cell_type": "markdown",
      "metadata": {
        "id": "G1LaV4TBOnZm",
        "colab_type": "text"
      },
      "source": [
        "# Training Deep Neural Networks on a GPU with Pytorch"
      ]
    },
    {
      "cell_type": "code",
      "metadata": {
        "id": "ylJkeLa2P3Cr",
        "colab_type": "code",
        "colab": {}
      },
      "source": [
        "import torch\n",
        "import numpy as np\n",
        "import torchvision\n",
        "from torchvision.datasets import MNIST\n",
        "from torchvision.transforms import ToTensor\n",
        "from torch.utils.data.sampler import SubsetRandomSampler\n",
        "from torch.utils.data.dataloader import DataLoader"
      ],
      "execution_count": 1,
      "outputs": []
    },
    {
      "cell_type": "code",
      "metadata": {
        "id": "3Ic1qyAKROVp",
        "colab_type": "code",
        "colab": {}
      },
      "source": [
        "dataset = MNIST(root ='data/',\n",
        "                download = True,\n",
        "                transform = ToTensor())\n"
      ],
      "execution_count": 2,
      "outputs": []
    },
    {
      "cell_type": "code",
      "metadata": {
        "id": "Dw98Z6JWST9Y",
        "colab_type": "code",
        "colab": {
          "base_uri": "https://localhost:8080/",
          "height": 34
        },
        "outputId": "41969fca-e5cf-4915-faf1-9b5791fce6f2"
      },
      "source": [
        "img,label = dataset[0]\n",
        "print(img.shape, label)"
      ],
      "execution_count": 3,
      "outputs": [
        {
          "output_type": "stream",
          "text": [
            "torch.Size([1, 28, 28]) 5\n"
          ],
          "name": "stdout"
        }
      ]
    },
    {
      "cell_type": "code",
      "metadata": {
        "id": "EUb1SWuESIdG",
        "colab_type": "code",
        "colab": {
          "base_uri": "https://localhost:8080/",
          "height": 282
        },
        "outputId": "dfc17362-85d2-4374-cc2c-f743ab67d64b"
      },
      "source": [
        "import matplotlib.pyplot as plt\n",
        "%matplotlib inline\n",
        "plt.imshow(img[0], cmap='gray')"
      ],
      "execution_count": 4,
      "outputs": [
        {
          "output_type": "execute_result",
          "data": {
            "text/plain": [
              "<matplotlib.image.AxesImage at 0x7f61042607f0>"
            ]
          },
          "metadata": {
            "tags": []
          },
          "execution_count": 4
        },
        {
          "output_type": "display_data",
          "data": {
            "image/png": "[encoded data removed]",
            "text/plain": [
              "<Figure size 432x288 with 1 Axes>"
            ]
          },
          "metadata": {
            "tags": [],
            "needs_background": "light"
          }
        }
      ]
    },
    {
      "cell_type": "code",
      "metadata": {
        "id": "VZZ6mAwcRjHr",
        "colab_type": "code",
        "colab": {}
      },
      "source": [
        "def split_indices(n, val_pct):\n",
        "  # Size of the dataset\n",
        "  n_val = int(val_pct*n)\n",
        "  # Random permutation from 0 to n-1\n",
        "  idx = np.random.permutation(n)\n",
        "  # Pick the first n values\n",
        "  return idx[n_val:], idx[:n_val]"
      ],
      "execution_count": 5,
      "outputs": []
    },
    {
      "cell_type": "code",
      "metadata": {
        "id": "le07yju7StNa",
        "colab_type": "code",
        "colab": {
          "base_uri": "https://localhost:8080/",
          "height": 67
        },
        "outputId": "7c1f4795-bd49-49c5-d406-a525e57d5c06"
      },
      "source": [
        "train_indices, val_indices = split_indices(len(dataset),val_pct = 0.2)\n",
        "\n",
        "print(len(train_indices), len(val_indices))\n",
        "print('Sample val indices: ', val_indices[:20])"
      ],
      "execution_count": 6,
      "outputs": [
        {
          "output_type": "stream",
          "text": [
            "48000 12000\n",
            "Sample val indices:  [31650 27634 37250 54503 47251 32650 51054 19810 53850 24972 45491 57066\n",
            " 14914 20384 39042  4584  6219 16541 26388  3771]\n"
          ],
          "name": "stdout"
        }
      ]
    },
    {
      "cell_type": "code",
      "metadata": {
        "id": "AKUQmhS_TVYk",
        "colab_type": "code",
        "colab": {}
      },
      "source": [
        "batch_size = 100\n",
        "\n",
        "# Train Sampler\n",
        "train_sampler = SubsetRandomSampler(train_indices)\n",
        "train_dl = DataLoader(dataset,\n",
        "                      batch_size,\n",
        "                      sampler=train_sampler)\n",
        "# Validation Sampler \n",
        "valid_sampler = SubsetRandomSampler(val_indices)\n",
        "valid_dl = DataLoader(dataset,\n",
        "                      batch_size,\n",
        "                      sampler=valid_sampler)"
      ],
      "execution_count": 7,
      "outputs": []
    },
    {
      "cell_type": "markdown",
      "metadata": {
        "id": "mMN2vq2ZT_yR",
        "colab_type": "text"
      },
      "source": [
        "# Model\n",
        "\n",
        "To improve upon [logistic regression](https://jvn.io/aakashns/a1b40b04f5174a18bd05b17e3dffb0f0), we'll create a neural network with one **hidden layer**. Here's what this means:\n",
        "\n",
        "* Instead of using a single `nn.Linear` object to transform a batch of inputs (pixel intensities) into a batch of outputs (class probabilities), we'll use two `nn.Linear` objects. Each of these is called a layer in the network. \n",
        "\n",
        "* The first layer (also known as the hidden layer) will transform the input matrix of shape `batch_size x 784` into an intermediate output matrix of shape `batch_size x hidden_size`, where `hidden_size` is a preconfigured parameter (e.g. 32 or 64).\n",
        "\n",
        "* The intermediate outputs are then passed into a non-linear *activation function*, which operates on individual elements of the output matrix.\n",
        "\n",
        "* The result of the activation function, which is also of size `batch_size x hidden_size`, is passed into the second layer (also knowns as the output layer), which transforms it into a matrix of size `batch_size x 10`, identical to the output of the logistic regression model.\n",
        "\n",
        "Introducing a hidden layer and an activation function allows the model to learn more complex, multi-layered and non-linear relationships between the inputs and the targets. Here's what it looks like visually:\n",
        "\n",
        "![](https://i.imgur.com/vDOGEkG.png)\n",
        "\n",
        "The activation function we'll use here is called a **Rectified Linear Unit** or **ReLU**, and it has a really simple formula: `relu(x) = max(0,x)` i.e. if an element is negative, we replace it by 0, otherwise we leave it unchanged.\n",
        "\n",
        "To define the model, we extend the `nn.Module` class, just as we did with logistic regression."
      ]
    },
    {
      "cell_type": "code",
      "metadata": {
        "id": "nBlX0FTcU117",
        "colab_type": "code",
        "colab": {}
      },
      "source": [
        "import torch.nn.functional as F\n",
        "import torch.nn as nn"
      ],
      "execution_count": 8,
      "outputs": []
    },
    {
      "cell_type": "code",
      "metadata": {
        "id": "9fdU4SlpXREu",
        "colab_type": "code",
        "colab": {}
      },
      "source": [
        "class MnistModel(nn.Module):\n",
        "  '''Feedforward neural network with 1 hidden layer\n",
        "  '''\n",
        "  def __init__(self, in_size, hidden_size, out_size):\n",
        "    super().__init__()\n",
        "    # hidden layer\n",
        "    self.linear1 = nn.Linear(in_size, hidden_size)\n",
        "    self.linear2 = nn.Linear(hidden_size, out_size)\n",
        "  \n",
        "  def forward(self,xb):\n",
        "    # Flatten the image tensors\n",
        "    xb = xb.view(xb.size(0),-1)\n",
        "    # Get intermediate outputs using hidden layer\n",
        "    out = self.linear1(xb)\n",
        "    # Apply activation function\n",
        "    out = F.relu(out)\n",
        "    # Get predictions using output layer\n",
        "    out = self.linear2(out)\n",
        "    return out"
      ],
      "execution_count": 9,
      "outputs": []
    },
    {
      "cell_type": "code",
      "metadata": {
        "id": "rE_dT33OZncG",
        "colab_type": "code",
        "colab": {}
      },
      "source": [
        "input_size = dataset[0][0].shape[1]*dataset[0][0].shape[2]\n",
        "hidden_size = 32\n",
        "num_classes = len(MNIST.classes)\n",
        "model = MnistModel(input_size, hidden_size, num_classes)"
      ],
      "execution_count": 10,
      "outputs": []
    },
    {
      "cell_type": "code",
      "metadata": {
        "id": "Tv6Qne4Kb5Fw",
        "colab_type": "code",
        "colab": {
          "base_uri": "https://localhost:8080/",
          "height": 84
        },
        "outputId": "921322f3-80e6-4b24-e3b3-8ed8313de55a"
      },
      "source": [
        "for t in model.parameters():\n",
        "  print(t.shape)"
      ],
      "execution_count": 11,
      "outputs": [
        {
          "output_type": "stream",
          "text": [
            "torch.Size([32, 784])\n",
            "torch.Size([32])\n",
            "torch.Size([10, 32])\n",
            "torch.Size([10])\n"
          ],
          "name": "stdout"
        }
      ]
    },
    {
      "cell_type": "code",
      "metadata": {
        "id": "hZEC5hRyb8gr",
        "colab_type": "code",
        "colab": {
          "base_uri": "https://localhost:8080/",
          "height": 171
        },
        "outputId": "769a6605-6826-4a6a-f87a-ebb8da5d63eb"
      },
      "source": [
        "for images, labels in train_dl:\n",
        "  print('Images.shape', images.shape)\n",
        "  outputs = model(images)\n",
        "  loss = F.cross_entropy(outputs, labels)\n",
        "  print('Loss:', loss.item())\n",
        "  break\n",
        "print('outputs.shape :', outputs.shape)\n",
        "print('Sample outputs :\\n', F.softmax(outputs)[0].data)"
      ],
      "execution_count": 12,
      "outputs": [
        {
          "output_type": "stream",
          "text": [
            "Images.shape torch.Size([100, 1, 28, 28])\n",
            "Loss: 2.3044562339782715\n",
            "outputs.shape : torch.Size([100, 10])\n",
            "Sample outputs :\n",
            " tensor([0.0980, 0.0933, 0.1023, 0.1143, 0.1014, 0.1141, 0.0863, 0.0825, 0.1201,\n",
            "        0.0877])\n"
          ],
          "name": "stdout"
        },
        {
          "output_type": "stream",
          "text": [
            "/usr/local/lib/python3.6/dist-packages/ipykernel_launcher.py:8: UserWarning: Implicit dimension choice for softmax has been deprecated. Change the call to include dim=X as an argument.\n",
            "  \n"
          ],
          "name": "stderr"
        }
      ]
    },
    {
      "cell_type": "markdown",
      "metadata": {
        "id": "hLedN-Kym1OL",
        "colab_type": "text"
      },
      "source": [
        "# Using a GPU"
      ]
    },
    {
      "cell_type": "code",
      "metadata": {
        "id": "260J5CuMm4B-",
        "colab_type": "code",
        "colab": {
          "base_uri": "https://localhost:8080/",
          "height": 34
        },
        "outputId": "546b5acb-e615-4151-f317-621fe3774221"
      },
      "source": [
        "torch.cuda.is_available()"
      ],
      "execution_count": 13,
      "outputs": [
        {
          "output_type": "execute_result",
          "data": {
            "text/plain": [
              "True"
            ]
          },
          "metadata": {
            "tags": []
          },
          "execution_count": 13
        }
      ]
    },
    {
      "cell_type": "code",
      "metadata": {
        "id": "cBLl0i4dnFFG",
        "colab_type": "code",
        "colab": {}
      },
      "source": [
        "def get_default_device():\n",
        "  '''Pick GPU if available'''\n",
        "  if torch.cuda.is_available():\n",
        "    return torch.device('cuda')\n",
        "  else:\n",
        "    return torch.device('cpu')"
      ],
      "execution_count": 14,
      "outputs": []
    },
    {
      "cell_type": "code",
      "metadata": {
        "id": "hjN99wTcnUtr",
        "colab_type": "code",
        "colab": {
          "base_uri": "https://localhost:8080/",
          "height": 34
        },
        "outputId": "1da9d0c8-6357-45f7-ead7-8ed6ddce38b5"
      },
      "source": [
        "device = get_default_device()\n",
        "device"
      ],
      "execution_count": 15,
      "outputs": [
        {
          "output_type": "execute_result",
          "data": {
            "text/plain": [
              "device(type='cuda')"
            ]
          },
          "metadata": {
            "tags": []
          },
          "execution_count": 15
        }
      ]
    },
    {
      "cell_type": "code",
      "metadata": {
        "id": "Pt0OkDJmnZDW",
        "colab_type": "code",
        "colab": {
          "base_uri": "https://localhost:8080/",
          "height": 470
        },
        "outputId": "0e8788eb-305d-4237-8e7d-05dd2713a01b"
      },
      "source": [
        "from tensorflow.python.client import device_lib\n",
        "device_lib.list_local_devices()"
      ],
      "execution_count": 16,
      "outputs": [
        {
          "output_type": "execute_result",
          "data": {
            "text/plain": [
              "[name: \"/device:CPU:0\"\n",
              " device_type: \"CPU\"\n",
              " memory_limit: 268435456\n",
              " locality {\n",
              " }\n",
              " incarnation: 7020680509683923449, name: \"/device:XLA_CPU:0\"\n",
              " device_type: \"XLA_CPU\"\n",
              " memory_limit: 17179869184\n",
              " locality {\n",
              " }\n",
              " incarnation: 15963964293855304348\n",
              " physical_device_desc: \"device: XLA_CPU device\", name: \"/device:XLA_GPU:0\"\n",
              " device_type: \"XLA_GPU\"\n",
              " memory_limit: 17179869184\n",
              " locality {\n",
              " }\n",
              " incarnation: 3005527736654415762\n",
              " physical_device_desc: \"device: XLA_GPU device\", name: \"/device:GPU:0\"\n",
              " device_type: \"GPU\"\n",
              " memory_limit: 10852871744\n",
              " locality {\n",
              "   bus_id: 1\n",
              "   links {\n",
              "   }\n",
              " }\n",
              " incarnation: 15966995229193519007\n",
              " physical_device_desc: \"device: 0, name: Tesla K80, pci bus id: 0000:00:04.0, compute capability: 3.7\"]"
            ]
          },
          "metadata": {
            "tags": []
          },
          "execution_count": 16
        }
      ]
    },
    {
      "cell_type": "code",
      "metadata": {
        "id": "xNMtfJZcnscM",
        "colab_type": "code",
        "colab": {}
      },
      "source": [
        "def to_device(data, device):\n",
        "  '''Move tensor(s) to chosen device'''\n",
        "  if isinstance(data, (list, tuple)):\n",
        "    return [to_device(x,device) for x in data]\n",
        "  return data.to(device, non_blocking = True)"
      ],
      "execution_count": 17,
      "outputs": []
    },
    {
      "cell_type": "code",
      "metadata": {
        "id": "1WuXaQUdoC8L",
        "colab_type": "code",
        "colab": {
          "base_uri": "https://localhost:8080/",
          "height": 50
        },
        "outputId": "2b737107-241c-4c22-f499-3a1af6ffc5ec"
      },
      "source": [
        "for images, labels in train_dl:\n",
        "  print(images.shape)\n",
        "  images = to_device(images, device)\n",
        "  print(images.device)\n",
        "  break"
      ],
      "execution_count": 18,
      "outputs": [
        {
          "output_type": "stream",
          "text": [
            "torch.Size([100, 1, 28, 28])\n",
            "cuda:0\n"
          ],
          "name": "stdout"
        }
      ]
    },
    {
      "cell_type": "code",
      "metadata": {
        "id": "qeeJi6zTolfu",
        "colab_type": "code",
        "colab": {}
      },
      "source": [
        "# Lazim oldukca GPU ya at\n",
        "class DeviceDataLoader():\n",
        "  '''Wrap a dataloader to move data to a device\n",
        "  '''\n",
        "  def __init__(self, dl, device):\n",
        "    self.dl = dl\n",
        "    self.device = device\n",
        "  \n",
        "  def __iter__(self):\n",
        "    '''Yield a batch of data after moving it to device\n",
        "    Returning someting and return the next thing when its called again\n",
        "    Garbage collection is happening\n",
        "    Put the data before accessing it'''\n",
        "\n",
        "    for b in self.dl:\n",
        "      yield to_device(b,self.device)\n",
        "\n",
        "  def __len__(self):\n",
        "    '''Number of batches'''\n",
        "    return len(self.dl)"
      ],
      "execution_count": 19,
      "outputs": []
    },
    {
      "cell_type": "markdown",
      "metadata": {
        "id": "hzBuN9nfpOCT",
        "colab_type": "text"
      },
      "source": [
        "We can now wrap out data loaders using `DeviceDataLoader`"
      ]
    },
    {
      "cell_type": "code",
      "metadata": {
        "id": "BOMSUi6np5WD",
        "colab_type": "code",
        "colab": {}
      },
      "source": [
        "train_dl = DeviceDataLoader(train_dl, device)\n",
        "valid_dl = DeviceDataLoader(valid_dl, device)"
      ],
      "execution_count": 20,
      "outputs": []
    },
    {
      "cell_type": "code",
      "metadata": {
        "id": "wgor_xDxqOrW",
        "colab_type": "code",
        "colab": {
          "base_uri": "https://localhost:8080/",
          "height": 34
        },
        "outputId": "e3a06f11-1f16-4cee-b4fd-6784037f8986"
      },
      "source": [
        "for xb, yb in valid_dl:\n",
        "  print('xb.device: ', xb.device)\n",
        "  break"
      ],
      "execution_count": 21,
      "outputs": [
        {
          "output_type": "stream",
          "text": [
            "xb.device:  cuda:0\n"
          ],
          "name": "stdout"
        }
      ]
    },
    {
      "cell_type": "markdown",
      "metadata": {
        "id": "zsWE0tYQrhog",
        "colab_type": "text"
      },
      "source": [
        "# Training the model"
      ]
    },
    {
      "cell_type": "code",
      "metadata": {
        "id": "HKL4a92Erghv",
        "colab_type": "code",
        "colab": {}
      },
      "source": [
        "def loss_batch(model, loss_func, xb, yb, opt = None, metric = None):\n",
        "  # Generate predictions\n",
        "  preds = model(xb)\n",
        "  # Calculate the loss\n",
        "  loss = loss_func(preds, yb)\n",
        "  \n",
        "  if opt:\n",
        "    # Compute the gradients\n",
        "    loss.backward()\n",
        "    # Update the parameters\n",
        "    opt.step()\n",
        "    # Reset the gradients\n",
        "    opt.zero_grad()\n",
        "\n",
        "  metric_result = None\n",
        "  if metric:\n",
        "    # Compute the metric\n",
        "    metric_result = metric(preds, yb)\n",
        "\n",
        "  return loss.item(), len(xb), metric_result\n"
      ],
      "execution_count": 22,
      "outputs": []
    },
    {
      "cell_type": "code",
      "metadata": {
        "id": "BiPZ5hIZvyG2",
        "colab_type": "code",
        "colab": {}
      },
      "source": [
        "def evaluate(model, loss_func, valid_dl, metric = None):\n",
        "  with torch.no_grad():\n",
        "    results = [loss_batch(model, loss_func, xb, yb, metric = metric) \\\n",
        "               for xb, yb in valid_dl]\n",
        "    # Separate losses, counts and metrics\n",
        "    losses, nums, metrics = zip(*results)   \n",
        "    # Total size of the dataset\n",
        "    total = np.sum(nums) \n",
        "    # Avg loss across batches\n",
        "    avg_loss = np.sum(np.multiply(losses, nums))/total\n",
        "    avg_metric = None\n",
        "    if metric:\n",
        "      #Avg. of metric across batches\n",
        "      avg_metric = np.sum(np.multiply(metrics, nums))/total\n",
        "    return avg_loss, total, avg_metric\n",
        "\n"
      ],
      "execution_count": 23,
      "outputs": []
    },
    {
      "cell_type": "code",
      "metadata": {
        "id": "Jm2mIwDErwmC",
        "colab_type": "code",
        "colab": {}
      },
      "source": [
        "def fit(epochs, lr, model, loss_fn, train_dl, valid_dl, metric = None, opt_fn = torch.optim.SGD):\n",
        "  train_losses, train_metrics, val_losses, val_metrics = [],[],[],[]\n",
        "\n",
        "  #Instantiate the optimizer\n",
        "  opt = opt_fn(model.parameters(), lr = lr)\n",
        "\n",
        "  for epoch in range(epochs):\n",
        "    # Training\n",
        "    for xb, yb in train_dl:\n",
        "      # loss_batch(model, loss_fn, xb, yb, opt)\n",
        "      train_loss, _, train_metric = loss_batch(model, loss_fn, xb, yb, opt, metric)\n",
        "    train_losses.append(train_loss)\n",
        "    train_metrics.append(train_metric)\n",
        "    \n",
        "    # Evaluation\n",
        "    val_loss, val_total, val_metric = evaluate(model, loss_fn, valid_dl, metric)\n",
        "\n",
        "    # Record the loss and metric\n",
        "    val_losses.append(val_loss)\n",
        "    val_metrics.append(val_metric)\n",
        "\n",
        "    # Print the progress\n",
        "    if metric:\n",
        "      print('Epoch [{}/{}], Loss: {:.4f}, {} : {:.4f} '\\\n",
        "            .format(epoch+1, epochs, val_loss, metric.__name__, val_metric))\n",
        "      \n",
        "  return train_losses, train_metrics, val_losses, val_metrics\n",
        "  # return val_losses, val_metrics"
      ],
      "execution_count": 24,
      "outputs": []
    },
    {
      "cell_type": "code",
      "metadata": {
        "id": "6Pd1Axs7yaWq",
        "colab_type": "code",
        "colab": {}
      },
      "source": [
        "def accuracy(outputs, labels):\n",
        "  _, preds = torch.max(outputs, dim=1)\n",
        "  return torch.sum(preds == labels).item() / len(preds)"
      ],
      "execution_count": 25,
      "outputs": []
    },
    {
      "cell_type": "code",
      "metadata": {
        "id": "XATHTK55ypHj",
        "colab_type": "code",
        "colab": {
          "base_uri": "https://localhost:8080/",
          "height": 84
        },
        "outputId": "d5cc8d68-67bd-45cf-f7a3-3139b554a4dc"
      },
      "source": [
        "# Model (on GPU)\n",
        "model = MnistModel(input_size, hidden_size, num_classes)\n",
        "to_device(model,device)"
      ],
      "execution_count": 26,
      "outputs": [
        {
          "output_type": "execute_result",
          "data": {
            "text/plain": [
              "MnistModel(\n",
              "  (linear1): Linear(in_features=784, out_features=32, bias=True)\n",
              "  (linear2): Linear(in_features=32, out_features=10, bias=True)\n",
              ")"
            ]
          },
          "metadata": {
            "tags": []
          },
          "execution_count": 26
        }
      ]
    },
    {
      "cell_type": "code",
      "metadata": {
        "id": "ieBbrkNazIvD",
        "colab_type": "code",
        "colab": {
          "base_uri": "https://localhost:8080/",
          "height": 34
        },
        "outputId": "5562756a-fe70-4665-87cb-0edd38900329"
      },
      "source": [
        "val_loss, total, val_acc = evaluate(model, F.cross_entropy,\\\n",
        "                                    valid_dl, metric = accuracy)\n",
        "print('Loss: {:.4f}, Accuracy : {:.4f}'.format(val_loss, val_acc))"
      ],
      "execution_count": 27,
      "outputs": [
        {
          "output_type": "stream",
          "text": [
            "Loss: 2.3011, Accuracy : 0.1352\n"
          ],
          "name": "stdout"
        }
      ]
    },
    {
      "cell_type": "code",
      "metadata": {
        "id": "O21q36150Br_",
        "colab_type": "code",
        "colab": {
          "base_uri": "https://localhost:8080/",
          "height": 185
        },
        "outputId": "d3738435-38f8-46cf-d5ef-6dfe785a881d"
      },
      "source": [
        "epochs = 10\n",
        "lr = .5\n",
        "# val_losses, val_metrics =\\\n",
        "train_losses, train_metrics, val_losses, val_metrics =\\\n",
        " fit(epochs, lr, model, F.cross_entropy, train_dl, valid_dl, metric = accuracy)"
      ],
      "execution_count": 28,
      "outputs": [
        {
          "output_type": "stream",
          "text": [
            "Epoch [1/10], Loss: 0.2046, accuracy : 0.9382 \n",
            "Epoch [2/10], Loss: 0.1849, accuracy : 0.9456 \n",
            "Epoch [3/10], Loss: 0.1519, accuracy : 0.9516 \n",
            "Epoch [4/10], Loss: 0.1326, accuracy : 0.9593 \n",
            "Epoch [5/10], Loss: 0.1270, accuracy : 0.9618 \n",
            "Epoch [6/10], Loss: 0.1259, accuracy : 0.9626 \n",
            "Epoch [7/10], Loss: 0.1324, accuracy : 0.9595 \n",
            "Epoch [8/10], Loss: 0.1240, accuracy : 0.9619 \n",
            "Epoch [9/10], Loss: 0.1257, accuracy : 0.9626 \n",
            "Epoch [10/10], Loss: 0.1285, accuracy : 0.9633 \n"
          ],
          "name": "stdout"
        }
      ]
    },
    {
      "cell_type": "code",
      "metadata": {
        "id": "RWfRTfTN4hPF",
        "colab_type": "code",
        "colab": {
          "base_uri": "https://localhost:8080/",
          "height": 34
        },
        "outputId": "feab928b-6fb4-4795-e5bd-46c267c86fcc"
      },
      "source": [
        "print(train_metrics)\n"
      ],
      "execution_count": 29,
      "outputs": [
        {
          "output_type": "stream",
          "text": [
            "[0.96, 0.96, 0.95, 0.96, 0.95, 0.98, 0.94, 0.97, 0.96, 0.97]\n"
          ],
          "name": "stdout"
        }
      ]
    },
    {
      "cell_type": "code",
      "metadata": {
        "id": "SdC6mTD917bQ",
        "colab_type": "code",
        "colab": {}
      },
      "source": [
        "import matplotlib.pyplot as plt\n",
        "%matplotlib inline\n",
        "\n",
        "def plot_loss(train_loss, validation_loss):\n",
        "  plt.plot(train_loss, color = 'red', label = 'train_loss')\n",
        "  plt.plot(validation_loss, color = 'blue', label = 'validation_loss')\n",
        "  plt.legend()\n",
        "  plt.xlabel('Epochs')\n",
        "  plt.ylabel('Loss')\n",
        "  plt.title('Loss vs. No. of Epochs')\n",
        "  plt.show()\n",
        "  plt.close()\n",
        "\n",
        "def plot_acc(train_acc, validation_acc):\n",
        "  plt.plot(train_acc, color = 'green', label = 'train_acc')\n",
        "  plt.plot(validation_acc, color = 'orange', label = 'validation_acc')\n",
        "  plt.legend()\n",
        "  plt.xlabel('Epochs')\n",
        "  plt.ylabel('Accuracy')\n",
        "  plt.title('Accuracy vs. No. of Epochs')\n",
        "  plt.show()\n",
        "  plt.close()"
      ],
      "execution_count": 30,
      "outputs": []
    },
    {
      "cell_type": "code",
      "metadata": {
        "id": "TlqiOt5p1Nk7",
        "colab_type": "code",
        "colab": {
          "base_uri": "https://localhost:8080/",
          "height": 573
        },
        "outputId": "37bda04f-3d4f-4e41-a6ff-0ff59d44d8f2"
      },
      "source": [
        "\n",
        "plot_loss(train_losses, val_losses)\n",
        "plot_acc(train_metrics, val_metrics)"
      ],
      "execution_count": 32,
      "outputs": [
        {
          "output_type": "display_data",
          "data": {
            "image/png": "[encoded data removed]",
            "text/plain": [
              "<Figure size 432x288 with 1 Axes>"
            ]
          },
          "metadata": {
            "tags": [],
            "needs_background": "light"
          }
        },
        {
          "output_type": "display_data",
          "data": {
            "image/png": "[encoded data removed]",
            "text/plain": [
              "<Figure size 432x288 with 1 Axes>"
            ]
          },
          "metadata": {
            "tags": [],
            "needs_background": "light"
          }
        }
      ]
    }
  ]
}