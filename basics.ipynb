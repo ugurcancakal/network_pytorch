{
  "nbformat": 4,
  "nbformat_minor": 0,
  "metadata": {
    "colab": {
      "name": "basics.ipynb",
      "provenance": [],
      "authorship_tag": "ABX9TyOGwRDEB+1dtGl6+ZbC2Ye/",
      "include_colab_link": true
    },
    "kernelspec": {
      "name": "python3",
      "display_name": "Python 3"
    }
  },
  "cells": [
    {
      "cell_type": "markdown",
      "metadata": {
        "id": "view-in-github",
        "colab_type": "text"
      },
      "source": [
        "<a href=\"https://colab.research.google.com/github/ugurcancakal/network_pytorch/blob/master/basics.ipynb\" target=\"_parent\"><img src=\"https://colab.research.google.com/assets/colab-badge.svg\" alt=\"Open In Colab\"/></a>"
      ]
    },
    {
      "cell_type": "markdown",
      "metadata": {
        "id": "nc_b0pX5T6cN",
        "colab_type": "text"
      },
      "source": [
        "**Machine Learning**\n",
        "\n",
        "rule and data -> classical programming -> answers\n",
        "\n",
        "data and answers -> machine learning -> rules"
      ]
    },
    {
      "cell_type": "markdown",
      "metadata": {
        "id": "1gRGXwTAUtvQ",
        "colab_type": "text"
      },
      "source": [
        "# Tensors and Gradients\n",
        "\n",
        "pytorch -> processing the tensors\n",
        "\n",
        "tensor is a number, vector, matrix or any n-dimensional array"
      ]
    },
    {
      "cell_type": "markdown",
      "metadata": {
        "id": "eAvUNu3sYW_b",
        "colab_type": "text"
      },
      "source": [
        "**WHAT MAKES PYTORCH SPECIAL?**\n",
        "\n",
        "We can automatically compute the derivative of y with respect to the tensors that have requies_grad set to true. To compute the derivatives we can call the \n",
        ".backward method "
      ]
    },
    {
      "cell_type": "code",
      "metadata": {
        "id": "_Zmdrhw0VUJm",
        "colab_type": "code",
        "colab": {}
      },
      "source": [
        "import torch"
      ],
      "execution_count": 1,
      "outputs": []
    },
    {
      "cell_type": "code",
      "metadata": {
        "id": "u1lcK4KiVV1o",
        "colab_type": "code",
        "colab": {
          "base_uri": "https://localhost:8080/",
          "height": 34
        },
        "outputId": "17f7026a-87ba-4248-ce4e-85e6c5b2c3f2"
      },
      "source": [
        "# Number\n",
        "t1 = torch.tensor(4.)\n",
        "print(t1)"
      ],
      "execution_count": 2,
      "outputs": [
        {
          "output_type": "stream",
          "text": [
            "tensor(4.)\n"
          ],
          "name": "stdout"
        }
      ]
    },
    {
      "cell_type": "code",
      "metadata": {
        "id": "bhi7pkWYVoq5",
        "colab_type": "code",
        "colab": {
          "base_uri": "https://localhost:8080/",
          "height": 34
        },
        "outputId": "438c1198-502a-40e7-da6a-99f0dbd8eaa4"
      },
      "source": [
        "t1.dtype "
      ],
      "execution_count": 3,
      "outputs": [
        {
          "output_type": "execute_result",
          "data": {
            "text/plain": [
              "torch.float32"
            ]
          },
          "metadata": {
            "tags": []
          },
          "execution_count": 3
        }
      ]
    },
    {
      "cell_type": "code",
      "metadata": {
        "id": "DQhn1r2vWFm_",
        "colab_type": "code",
        "colab": {
          "base_uri": "https://localhost:8080/",
          "height": 34
        },
        "outputId": "c7e48fdf-555d-407f-93e9-af9a5c7fc618"
      },
      "source": [
        "t2 = torch.tensor([1., 2, 3, 4])\n",
        "t2"
      ],
      "execution_count": 4,
      "outputs": [
        {
          "output_type": "execute_result",
          "data": {
            "text/plain": [
              "tensor([1., 2., 3., 4.])"
            ]
          },
          "metadata": {
            "tags": []
          },
          "execution_count": 4
        }
      ]
    },
    {
      "cell_type": "code",
      "metadata": {
        "id": "SZKZovtlWKl3",
        "colab_type": "code",
        "colab": {
          "base_uri": "https://localhost:8080/",
          "height": 67
        },
        "outputId": "01009336-8d4d-4636-8ab6-b72181673249"
      },
      "source": [
        "t3 = torch.tensor([[5.,6.],[7,8],[9,10]])\n",
        "t3"
      ],
      "execution_count": 5,
      "outputs": [
        {
          "output_type": "execute_result",
          "data": {
            "text/plain": [
              "tensor([[ 5.,  6.],\n",
              "        [ 7.,  8.],\n",
              "        [ 9., 10.]])"
            ]
          },
          "metadata": {
            "tags": []
          },
          "execution_count": 5
        }
      ]
    },
    {
      "cell_type": "code",
      "metadata": {
        "id": "S-eg-Wa_WiCZ",
        "colab_type": "code",
        "colab": {
          "base_uri": "https://localhost:8080/",
          "height": 101
        },
        "outputId": "fb131009-d094-4545-e983-46eef024be5b"
      },
      "source": [
        "t4 = torch.tensor([\n",
        "                   [[11,12,13],\n",
        "                    [13,14,15]],\n",
        "                   [[15,16,17],\n",
        "                    [18,19,20]]])\n",
        "t4"
      ],
      "execution_count": 6,
      "outputs": [
        {
          "output_type": "execute_result",
          "data": {
            "text/plain": [
              "tensor([[[11, 12, 13],\n",
              "         [13, 14, 15]],\n",
              "\n",
              "        [[15, 16, 17],\n",
              "         [18, 19, 20]]])"
            ]
          },
          "metadata": {
            "tags": []
          },
          "execution_count": 6
        }
      ]
    },
    {
      "cell_type": "code",
      "metadata": {
        "id": "ldfXg5s_W4yI",
        "colab_type": "code",
        "colab": {
          "base_uri": "https://localhost:8080/",
          "height": 84
        },
        "outputId": "dcbb4f2a-1fba-4bbc-87f1-32c48a8be804"
      },
      "source": [
        "print(t1.shape)\n",
        "print(t2.shape)\n",
        "print(t3.shape)\n",
        "print(t4.shape)"
      ],
      "execution_count": 7,
      "outputs": [
        {
          "output_type": "stream",
          "text": [
            "torch.Size([])\n",
            "torch.Size([4])\n",
            "torch.Size([3, 2])\n",
            "torch.Size([2, 2, 3])\n"
          ],
          "name": "stdout"
        }
      ]
    },
    {
      "cell_type": "code",
      "metadata": {
        "id": "I5jxQIqXX0Jf",
        "colab_type": "code",
        "colab": {}
      },
      "source": [
        "x = torch.tensor(3.)\n",
        "w = torch.tensor(4., requires_grad = True)\n",
        "b = torch.tensor(5., requires_grad = True)"
      ],
      "execution_count": 8,
      "outputs": []
    },
    {
      "cell_type": "code",
      "metadata": {
        "id": "1sCkFJcJYGDl",
        "colab_type": "code",
        "colab": {
          "base_uri": "https://localhost:8080/",
          "height": 34
        },
        "outputId": "bd789b02-0672-416b-fe1b-12f8dbf21769"
      },
      "source": [
        "y = w*x +b\n",
        "print(y)"
      ],
      "execution_count": 9,
      "outputs": [
        {
          "output_type": "stream",
          "text": [
            "tensor(17., grad_fn=<AddBackward0>)\n"
          ],
          "name": "stdout"
        }
      ]
    },
    {
      "cell_type": "code",
      "metadata": {
        "id": "c_WGzrbeYKIh",
        "colab_type": "code",
        "colab": {}
      },
      "source": [
        "y.backward()\n"
      ],
      "execution_count": 10,
      "outputs": []
    },
    {
      "cell_type": "code",
      "metadata": {
        "id": "TiQo-Jw4Zi8p",
        "colab_type": "code",
        "colab": {
          "base_uri": "https://localhost:8080/",
          "height": 67
        },
        "outputId": "b02d451e-865b-4997-ce29-463c7e5830a2"
      },
      "source": [
        "print('dy/dx: ', x.grad)\n",
        "print('dy/dw ', w.grad)\n",
        "print('dy/db ', b.grad)"
      ],
      "execution_count": 11,
      "outputs": [
        {
          "output_type": "stream",
          "text": [
            "dy/dx:  None\n",
            "dy/dw  tensor(3.)\n",
            "dy/db  tensor(1.)\n"
          ],
          "name": "stdout"
        }
      ]
    },
    {
      "cell_type": "markdown",
      "metadata": {
        "id": "eDO_qavXZv_c",
        "colab_type": "text"
      },
      "source": [
        "# numpy, pandas, opencv"
      ]
    },
    {
      "cell_type": "markdown",
      "metadata": {
        "id": "tN1fBZRybDP1",
        "colab_type": "text"
      },
      "source": [
        "pytorch is optimized for GPU, however most of the preprocessing is made in numpy. Hopefully, torch has great interoperability with numpy"
      ]
    },
    {
      "cell_type": "code",
      "metadata": {
        "id": "QlpbMlNsZvrx",
        "colab_type": "code",
        "colab": {
          "base_uri": "https://localhost:8080/",
          "height": 50
        },
        "outputId": "b4a8fd24-c2e0-4678-ff39-49e1533a6b18"
      },
      "source": [
        "import numpy as np\n",
        "\n",
        "x = np.array([[1,2], [3,4]])\n",
        "z = torch.from_numpy(x) # shallow copy\n",
        "y = torch.tensor(x) # deep copy\n",
        "print(y)"
      ],
      "execution_count": 12,
      "outputs": [
        {
          "output_type": "stream",
          "text": [
            "tensor([[1, 2],\n",
            "        [3, 4]])\n"
          ],
          "name": "stdout"
        }
      ]
    },
    {
      "cell_type": "code",
      "metadata": {
        "id": "Vhv_PjhSaTjp",
        "colab_type": "code",
        "colab": {
          "base_uri": "https://localhost:8080/",
          "height": 50
        },
        "outputId": "cf9b6f70-daa8-4e8e-f592-e4a1d4442e12"
      },
      "source": [
        "t = y.numpy()\n",
        "print(t)"
      ],
      "execution_count": 13,
      "outputs": [
        {
          "output_type": "stream",
          "text": [
            "[[1 2]\n",
            " [3 4]]\n"
          ],
          "name": "stdout"
        }
      ]
    }
  ]
}